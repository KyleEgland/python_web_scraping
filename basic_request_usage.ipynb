{
 "cells": [
  {
   "cell_type": "code",
   "execution_count": 1,
   "metadata": {},
   "outputs": [
    {
     "name": "stdout",
     "output_type": "stream",
     "text": [
      "Target: http://dataquestio.github.io/web-scraping-pages/simple.html\n"
     ]
    }
   ],
   "source": [
    "# This code is based off a tutorial found at:\n",
    "# https://www.dataquest.io/blog/web-scraping-tutorial-python/\n",
    "# This bit of code simply does webpage requests.\n",
    "import requests\n",
    "\n",
    "# Designating a 'target', not neccessary to do as variable\n",
    "target = \"http://dataquestio.github.io/web-scraping-pages/simple.html\"\n",
    "print('Target: {}'.format(target))"
   ]
  },
  {
   "cell_type": "code",
   "execution_count": 3,
   "metadata": {},
   "outputs": [
    {
     "name": "stdout",
     "output_type": "stream",
     "text": [
      "Response object: <Response [200]>\n",
      "\n"
     ]
    }
   ],
   "source": [
    "# Request a webpage using the requests.get() method\n",
    "page = requests.get(target)\n",
    "\n",
    "# Display the response from that page\n",
    "# The object obtained is a response object, the below will print the response\n",
    "print('Response object: {}\\n'.format(page))"
   ]
  },
  {
   "cell_type": "code",
   "execution_count": 4,
   "metadata": {},
   "outputs": [
    {
     "name": "stdout",
     "output_type": "stream",
     "text": [
      "[+] Status code: 200\n",
      "\n"
     ]
    }
   ],
   "source": [
    "# The response object also has a status code, indicating that the page\n",
    "# downloaded successfully (status code 200)\n",
    "print('[+] Status code: {}\\n'.format(page.status_code))"
   ]
  },
  {
   "cell_type": "code",
   "execution_count": 5,
   "metadata": {},
   "outputs": [
    {
     "name": "stdout",
     "output_type": "stream",
     "text": [
      "[+] HTML code:\n",
      "b'<!DOCTYPE html>\\n<html>\\n    <head>\\n        <title>A simple example page</title>\\n    </head>\\n    <body>\\n        <p>Here is some simple content for this page.</p>\\n    </body>\\n</html>'\n"
     ]
    }
   ],
   "source": [
    "# Display the HTML content of the page using content property\n",
    "print('[+] HTML code:\\n{}'.format(page.content))"
   ]
  },
  {
   "cell_type": "code",
   "execution_count": null,
   "metadata": {},
   "outputs": [],
   "source": []
  }
 ],
 "metadata": {
  "kernelspec": {
   "display_name": "Python 3",
   "language": "python",
   "name": "python3"
  },
  "language_info": {
   "codemirror_mode": {
    "name": "ipython",
    "version": 3
   },
   "file_extension": ".py",
   "mimetype": "text/x-python",
   "name": "python",
   "nbconvert_exporter": "python",
   "pygments_lexer": "ipython3",
   "version": "3.7.2"
  }
 },
 "nbformat": 4,
 "nbformat_minor": 2
}
