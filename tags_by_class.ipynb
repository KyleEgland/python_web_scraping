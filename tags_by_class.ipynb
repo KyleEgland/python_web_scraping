{
 "cells": [
  {
   "cell_type": "code",
   "execution_count": 1,
   "metadata": {},
   "outputs": [
    {
     "name": "stdout",
     "output_type": "stream",
     "text": [
      "[*] Showing page contents:\n",
      "<html>\n",
      "<head>\n",
      "<title>A simple example page</title>\n",
      "</head>\n",
      "<body>\n",
      "<div>\n",
      "<p class=\"inner-text first-item\" id=\"first\">\n",
      "                First paragraph.\n",
      "            </p>\n",
      "<p class=\"inner-text\">\n",
      "                Second paragraph.\n",
      "            </p>\n",
      "</div>\n",
      "<p class=\"outer-text first-item\" id=\"second\">\n",
      "<b>\n",
      "                First outer paragraph.\n",
      "            </b>\n",
      "</p>\n",
      "<p class=\"outer-text\">\n",
      "<b>\n",
      "                Second outer paragraph.\n",
      "            </b>\n",
      "</p>\n",
      "</body>\n",
      "</html>\n",
      "[*] Find all <p> tags with class \"outer-text\"\n",
      "[<p class=\"outer-text first-item\" id=\"second\">\n",
      "<b>\n",
      "                First outer paragraph.\n",
      "            </b>\n",
      "</p>, <p class=\"outer-text\">\n",
      "<b>\n",
      "                Second outer paragraph.\n",
      "            </b>\n",
      "</p>]\n",
      "[*] Find element by id:\n",
      "[<p class=\"inner-text first-item\" id=\"first\">\n",
      "                First paragraph.\n",
      "            </p>]\n"
     ]
    }
   ],
   "source": [
    "# This code is based off a tutorial found at:\n",
    "# https://www.dataquest.io/blog/web-scraping-tutorial-python/\n",
    "# In this file classes and ids will be used to specify which elements are to\n",
    "# be scraped.\n",
    "import requests\n",
    "from bs4 import BeautifulSoup as bs\n",
    "\n",
    "# Specifying target URL.\n",
    "target = 'http://dataquestio.github.io/web-scraping-pages/ids_and_classes.html'\n",
    "\n",
    "# Request the page\n",
    "page = requests.get(target)\n",
    "\n",
    "# Pass the file to BeautifulSoup for parsing\n",
    "soup = bs(page.content, 'html.parser')\n",
    "\n",
    "# Display the contents of the page as parsed by BeautifulSoup\n",
    "print('[*] Showing page contents:')\n",
    "print(soup)\n",
    "\n",
    "# Use 'find_all' method to search for items by class or id.  The example\n",
    "# below is searching for any <p> tag that has the class 'outer-text'\n",
    "print('[*] Find all <p> tags with class \"outer-text\"')\n",
    "print(soup.find_all('p', 'id'='outer-text'))\n",
    "\n",
    "# Elements can also be found by id\n",
    "print('[*] Find element by id:')\n",
    "print(soup.find_all(id=\"first\"))"
   ]
  },
  {
   "cell_type": "code",
   "execution_count": null,
   "metadata": {},
   "outputs": [],
   "source": []
  }
 ],
 "metadata": {
  "kernelspec": {
   "display_name": "Python 3",
   "language": "python",
   "name": "python3"
  },
  "language_info": {
   "codemirror_mode": {
    "name": "ipython",
    "version": 3
   },
   "file_extension": ".py",
   "mimetype": "text/x-python",
   "name": "python",
   "nbconvert_exporter": "python",
   "pygments_lexer": "ipython3",
   "version": "3.7.2"
  }
 },
 "nbformat": 4,
 "nbformat_minor": 2
}
